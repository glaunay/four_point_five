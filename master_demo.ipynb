{
  "nbformat": 4,
  "nbformat_minor": 0,
  "metadata": {
    "colab": {
      "provenance": [],
      "include_colab_link": true
    },
    "kernelspec": {
      "name": "python3",
      "display_name": "Python 3"
    },
    "language_info": {
      "name": "python"
    }
  },
  "cells": [
    {
      "cell_type": "markdown",
      "metadata": {
        "id": "view-in-github",
        "colab_type": "text"
      },
      "source": [
        "<a href=\"https://colab.research.google.com/github/glaunay/four_point_five/blob/main/master_demo.ipynb\" target=\"_parent\"><img src=\"https://colab.research.google.com/assets/colab-badge.svg\" alt=\"Open In Colab\"/></a>"
      ]
    },
    {
      "cell_type": "markdown",
      "source": [
        "## TO RP/GLA 15/11\n",
        "\n",
        "### Requirements\n",
        "1. docking \"trimer\"\n",
        "2. linky exec\n",
        "3. polymer library file with building blocks:\n",
        "  * atom name sequence\n",
        "  * average distance between blocks\n",
        "4. python postprocessing\n",
        "5. IMP refiner wrapper\n",
        "\n",
        "### step 1 / link_generator\n",
        "linky complex.pdb PEG\n",
        "\n",
        "### output as json format\n",
        "```json\n",
        "{\n",
        "  \"atom_index\" : [\n",
        "    (x, y, z, M, is_opt:bool),\n",
        "  ...\n",
        "  ]\n",
        "}\n",
        "```\n",
        "\n",
        "Where,\n",
        "- coordinates sequence respect the one of the atoms polymer, making dynamic bond term declaration trivial\n",
        "- x,y,z values of all atoms of a given building block (eg:PEG_1)\n",
        "- 1st atom of sequence is last of Lig/warhead domain\n",
        "- last atom of sequence is the 1st of Warhead/lig domain\n",
        "\n",
        "## step 2 / IMP preprocessing\n",
        "### Generate particles\n",
        "### Define softsphere potentials\n",
        "### Define dihedrals"
      ],
      "metadata": {
        "id": "7Efmy0OgklQH"
      }
    },
    {
      "cell_type": "code",
      "execution_count": null,
      "metadata": {
        "id": "4cvEmBhaqo9l"
      },
      "outputs": [],
      "source": [
        "!pip install -q condacolab\n",
        "import condacolab\n",
        "condacolab.install()\n",
        "!conda install -c salilab imp\n",
        "!conda install matplotlib"
      ]
    },
    {
      "cell_type": "markdown",
      "source": [],
      "metadata": {
        "id": "3yR3Zy3WJyFZ"
      }
    },
    {
      "cell_type": "code",
      "source": [
        "try:\n",
        "  del m\n",
        "  del mc\n",
        "  del rs\n",
        "  del hroot\n",
        "  del mvs\n",
        "  del rh\n",
        "except:\n",
        "  print(\"all good\")\n",
        "\n",
        "import IMP\n",
        "import IMP.atom\n",
        "import IMP.core"
      ],
      "metadata": {
        "colab": {
          "base_uri": "https://localhost:8080/"
        },
        "id": "RH6IEcG1tRtA",
        "outputId": "a7a276cc-9c20-4e00-e33b-93775ac6f0de"
      },
      "execution_count": null,
      "outputs": [
        {
          "output_type": "stream",
          "name": "stdout",
          "text": [
            "all good\n"
          ]
        }
      ]
    },
    {
      "cell_type": "code",
      "source": [
        "# create an IMP model\n",
        "m=IMP.Model()"
      ],
      "metadata": {
        "id": "bVL6nbzctXQF"
      },
      "execution_count": null,
      "outputs": []
    },
    {
      "cell_type": "code",
      "source": [
        "#each tuple is x,y,z,radius,mass,is_optimized\n",
        "particles=[(0,0,0,1,100,False),\n",
        " (0,0,2,1,100,True),\n",
        " (0,0,4,1,100,True),\n",
        " (0,0,6,1,100,True),\n",
        " (0,0,8,1,100,True),\n",
        " (0,0,10,1,100,True),\n",
        " (0,0,12,1,100,False),\n",
        " (0,0,7,1,100,False)]"
      ],
      "metadata": {
        "id": "c4eDgQVytaDo"
      },
      "execution_count": null,
      "outputs": []
    },
    {
      "cell_type": "code",
      "source": [
        "def setup_representation(tpl):\n",
        "    # decorate it as a sphere\n",
        "    pa=IMP.Particle(m)\n",
        "    dr=IMP.core.XYZR.setup_particle(pa)\n",
        "\n",
        "    # set the coordinates\n",
        "    dr.set_coordinates((tpl[0],tpl[1],tpl[2]))\n",
        "\n",
        "    # set the radius\n",
        "    dr.set_radius(tpl[3])\n",
        "\n",
        "    # set the mass\n",
        "    IMP.atom.Mass.setup_particle(pa,tpl[4])\n",
        "\n",
        "    # set the optimization of the coordinates to True\n",
        "    dr.set_coordinates_are_optimized(tpl[5])\n",
        "\n",
        "    ha=IMP.atom.Hierarchy(pa)\n",
        "    cb=IMP.display.Color(0,1,1)\n",
        "    c=IMP.display.Colored.setup_particle(pa,cb)\n",
        "\n",
        "    return ha"
      ],
      "metadata": {
        "id": "KgzDbnJCt-zA"
      },
      "execution_count": null,
      "outputs": []
    },
    {
      "cell_type": "code",
      "source": [
        "def setup_movers(particles):\n",
        "    return_list=[]\n",
        "    for p in particles:\n",
        "        dr=IMP.core.XYZR(p)\n",
        "        if dr.get_coordinates_are_optimized():\n",
        "          mv=IMP.core.BallMover(m,p,0.1)\n",
        "          return_list.append(mv)\n",
        "    return return_list\n"
      ],
      "metadata": {
        "id": "wWUXPktWw71U"
      },
      "execution_count": null,
      "outputs": []
    },
    {
      "cell_type": "code",
      "source": [
        "def setup_restraints(particles):\n",
        "    return_list=[]\n",
        "    for i in range(len(particles) - 1):\n",
        "      p0 = particles[i]\n",
        "      p1 = particles[i + 1]\n",
        "      # create a harmonic restraint\n",
        "      dr0=IMP.core.XYZR(p0)\n",
        "      dr1=IMP.core.XYZR(p1)\n",
        "      if not dr0.get_coordinates_are_optimized() and not dr1.get_coordinates_are_optimized():\n",
        "        continue\n",
        "      hf = IMP.core.Harmonic(0.1,10.0)\n",
        "      dr=IMP.core.DistanceRestraint(m,hf,p0,p1)\n",
        "      return_list.append(dr)\n",
        "    return return_list"
      ],
      "metadata": {
        "id": "zzYdt_a5xtM2"
      },
      "execution_count": null,
      "outputs": []
    },
    {
      "cell_type": "code",
      "source": [
        "def setup_exvol(particles):\n",
        "    ssps = IMP.core.SoftSpherePairScore(10.0)\n",
        "    lsa = IMP.container.ListSingletonContainer(m)\n",
        "    #print(IMP.get_indexes(particles))\n",
        "    lsa.add(IMP.get_indexes(particles))\n",
        "    rbcpf = IMP.core.RigidClosePairsFinder()\n",
        "    cpc = IMP.container.ClosePairContainer(lsa,0.0,rbcpf,10.0)\n",
        "    #print(cpc.get_indexes())\n",
        "    #print(rbcpf.get_close_pairs(m,IMP.get_indexes(particles)))\n",
        "    evr = IMP.container.PairsRestraint(ssps,cpc)\n",
        "    return evr"
      ],
      "metadata": {
        "id": "4WtFLFPoJ6rl"
      },
      "execution_count": null,
      "outputs": []
    },
    {
      "cell_type": "code",
      "source": [
        "hs=[setup_representation(t) for t in particles ]"
      ],
      "metadata": {
        "id": "do6GRsnFuftN"
      },
      "execution_count": null,
      "outputs": []
    },
    {
      "cell_type": "code",
      "source": [
        "mvs=setup_movers(hs)"
      ],
      "metadata": {
        "id": "Krz5RXj8wpe7"
      },
      "execution_count": null,
      "outputs": []
    },
    {
      "cell_type": "code",
      "source": [
        "rs=setup_restraints(hs)"
      ],
      "metadata": {
        "id": "0XAvaPisyqUh"
      },
      "execution_count": null,
      "outputs": []
    },
    {
      "cell_type": "code",
      "source": [
        "evr=setup_exvol(hs)\n",
        "print(evr.unprotected_evaluate(None))\n",
        "rs.append(evr)"
      ],
      "metadata": {
        "id": "zU4Y0jBBLEEb",
        "outputId": "9dff2284-9dd5-4eae-e4a9-af83e3c3ed26",
        "colab": {
          "base_uri": "https://localhost:8080/"
        }
      },
      "execution_count": null,
      "outputs": [
        {
          "output_type": "stream",
          "name": "stdout",
          "text": [
            "0.0\n"
          ]
        }
      ]
    },
    {
      "cell_type": "code",
      "source": [
        "# wrap the restraints in a Scoring Function\n",
        "sf = IMP.core.RestraintsScoringFunction(rs)"
      ],
      "metadata": {
        "id": "yu-gTcjKzGJT"
      },
      "execution_count": null,
      "outputs": []
    },
    {
      "cell_type": "code",
      "source": [
        "# Build the Monte Carlo Sampler\n",
        "mc = IMP.core.MonteCarlo(m)\n",
        "mc.set_scoring_function(sf)\n",
        "sm = IMP.core.SerialMover(mvs)\n",
        "mc.add_mover(sm)\n",
        "mc.set_return_best(False)\n",
        "mc.set_kt(1.0)"
      ],
      "metadata": {
        "id": "1glM1-pMzdyK"
      },
      "execution_count": null,
      "outputs": []
    },
    {
      "cell_type": "code",
      "source": [
        "\n",
        "\n",
        "# Prepare the trajectory file\n",
        "import IMP.rmf\n",
        "import RMF\n",
        "\n",
        "hroot=IMP.atom.Hierarchy(IMP.Particle(m))\n",
        "\n",
        "for h in hs: hroot.add_child(h)\n",
        "\n",
        "rh = RMF.create_rmf_file(\"out.rmf\")\n",
        "IMP.rmf.add_hierarchies(rh, [hroot])\n",
        "IMP.rmf.add_restraints(rh,rs)\n",
        "IMP.rmf.save_frame(rh)"
      ],
      "metadata": {
        "colab": {
          "base_uri": "https://localhost:8080/"
        },
        "id": "tA8SW_xCzkyL",
        "outputId": "382b84e2-837f-45b1-df46-d85c7153a47b"
      },
      "execution_count": null,
      "outputs": [
        {
          "output_type": "execute_result",
          "data": {
            "text/plain": [
              "f0"
            ]
          },
          "metadata": {},
          "execution_count": 92
        }
      ]
    },
    {
      "cell_type": "code",
      "source": [
        "# run the sampling\n",
        "for i in range(10000):\n",
        "    mc.optimize(1)\n",
        "    #if i%10==0:\n",
        "    #  IMP.rmf.save_frame(rh)\n",
        "    #  #print(sf.evaluate(False),evr.unprotected_evaluate(None))\n",
        "\n",
        "cg=IMP.core.ConjugateGradients(m)\n",
        "cg.set_scoring_function(rs)\n",
        "cg.optimize(100)\n",
        "IMP.rmf.save_frame(rh)\n",
        "del rh"
      ],
      "metadata": {
        "id": "7zYXuPi80e6K"
      },
      "execution_count": null,
      "outputs": []
    },
    {
      "cell_type": "code",
      "source": [],
      "metadata": {
        "id": "e43WELN3I7tf"
      },
      "execution_count": null,
      "outputs": []
    }
  ]
}